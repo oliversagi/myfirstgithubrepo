{
 "cells": [
  {
   "cell_type": "markdown",
   "id": "6e5bc0b6",
   "metadata": {},
   "source": [
    "# Data Science Tools and Ecosystem"
   ]
  },
  {
   "cell_type": "markdown",
   "id": "ebf991cf",
   "metadata": {},
   "source": [
    "In this notebook, Data Science Tools and Ecosystem are summarized.\n"
   ]
  },
  {
   "cell_type": "markdown",
   "id": "1aedf75b",
   "metadata": {},
   "source": [
    "**Objectives:**\n",
    "The capabilities of R and its uses in Data Science.\n",
    "The RStudio interface for running R codes. \n",
    "Popular R packages for Data Science.\n",
    "Popular data visualization packages in R.\n",
    "Plotting with the inbuilt R plot function.\n",
    "Plotting with ggplot.\n",
    "Adding titles and changing the axis names using the ggtitle and lab’s function.\n",
    "A Distributed Version Control System (DVCS) keeps track of changes to code, regardless of where it is stored. \n",
    "Version control allows multiple users to work on the same codebase or repository, mirroring the codebase on their own computers if needed, while the distributed version control software helps manage synchronization amongst the various codebase mirrors.\n",
    "Repositories are storage structures that:\n",
    "Store the code\n",
    "Track issues and changes\n",
    "Enable you to collaborate with others\n",
    "Git is one of the most popular distributed version control systems. \n",
    "GitHub, GitLab and Bitbucket are examples of hosted version control systems.\n",
    "Branches are used to isolate changes to code. When the changes are complete, they can be merged back into the main branch.\n",
    "Repositories can be cloned to make it possible to work locally, then sync changes back to the original.\n",
    "\n",
    "**List popular languages for Data Science**\n",
    "- Python\n",
    "- R\n",
    "- SQL"
   ]
  },
  {
   "cell_type": "markdown",
   "id": "e5c1cdc7",
   "metadata": {},
   "source": [
    "Some of the popular languages that Data Scientists use are:\n",
    "1.Python\n",
    "2.R\n",
    "3.SQL\n",
    "4.Java\n",
    "5.Julia\n",
    "6.Scala\n",
    "7.JavaScript\n",
    "8.Swift"
   ]
  },
  {
   "cell_type": "markdown",
   "id": "c36e799d",
   "metadata": {},
   "source": [
    "Some of the commonly used libraries used by Data Scientists include:\n",
    "1.NumPy\n",
    "2.SciPy\n",
    "3.Pandas\n",
    "4.Matplotlib"
   ]
  },
  {
   "cell_type": "markdown",
   "id": "406a5a87",
   "metadata": {},
   "source": [
    "|Data Science Tools\n",
    "| ------\n",
    "|RStudio\n",
    "|Apache Spark\n",
    "|TensorFlow"
   ]
  },
  {
   "cell_type": "markdown",
   "id": "96dc2378",
   "metadata": {},
   "source": [
    "### Below are a few examples of evaluating arithmetic expressions in Python"
   ]
  },
  {
   "cell_type": "code",
   "execution_count": 3,
   "id": "89914689",
   "metadata": {},
   "outputs": [
    {
     "data": {
      "text/plain": [
       "17"
      ]
     },
     "execution_count": 3,
     "metadata": {},
     "output_type": "execute_result"
    }
   ],
   "source": [
    " # This a simple arithmetic expression to mutiply then add integers\n",
    " x=(3*4)+5\n",
    "x"
   ]
  },
  {
   "cell_type": "code",
   "execution_count": 5,
   "id": "2d78139e",
   "metadata": {},
   "outputs": [
    {
     "name": "stdout",
     "output_type": "stream",
     "text": [
      "3.3333333333333335\n",
      "3\n"
     ]
    }
   ],
   "source": [
    "# This will convert 200 minutes to hours by diving by 60\n",
    "m=200 # [minutes]\n",
    "h=m/60 #[hours]\n",
    "print(h)\n",
    "h_whole=m//60 #[hours]\n",
    "print(h_whole)"
   ]
  },
  {
   "cell_type": "markdown",
   "id": "03edafbd",
   "metadata": {},
   "source": [
    "## Author\n",
    "Oliver Tivadar Sagi Author"
   ]
  },
  {
   "cell_type": "code",
   "execution_count": null,
   "id": "37512a7a",
   "metadata": {},
   "outputs": [],
   "source": []
  }
 ],
 "metadata": {
  "kernelspec": {
   "display_name": "Python 3 (ipykernel)",
   "language": "python",
   "name": "python3"
  },
  "language_info": {
   "codemirror_mode": {
    "name": "ipython",
    "version": 3
   },
   "file_extension": ".py",
   "mimetype": "text/x-python",
   "name": "python",
   "nbconvert_exporter": "python",
   "pygments_lexer": "ipython3",
   "version": "3.9.7"
  }
 },
 "nbformat": 4,
 "nbformat_minor": 5
}
